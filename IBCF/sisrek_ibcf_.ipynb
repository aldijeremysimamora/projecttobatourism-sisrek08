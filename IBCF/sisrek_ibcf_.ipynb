{
 "cells": [
  {
   "cell_type": "markdown",
   "id": "162851db",
   "metadata": {
    "id": "162851db"
   },
   "source": [
    "#### Kelompok 8\n",
    "1. 12S21011 - Aldi Jeremy Simamora\n",
    "2. 12S21034 - Lasni Sinta Uli Simanjuntak\n",
    "3. 12S21036 - Astri Yuliana Siahaan"
   ]
  },
  {
   "cell_type": "markdown",
   "id": "c1896231",
   "metadata": {},
   "source": [
    "# Item-Based Collaborative Filtering"
   ]
  },
  {
   "cell_type": "markdown",
   "id": "c60261bb",
   "metadata": {
    "id": "c60261bb"
   },
   "source": [
    "# Data Preparation"
   ]
  },
  {
   "cell_type": "code",
   "execution_count": 2,
   "id": "b8460e12",
   "metadata": {
    "id": "b8460e12"
   },
   "outputs": [],
   "source": [
    "import pandas as pd\n",
    "import numpy as np\n",
    "from sklearn.model_selection import train_test_split\n",
    "from sklearn.metrics import mean_squared_error, mean_absolute_error, precision_score, recall_score, average_precision_score\n",
    "import matplotlib.pyplot as plt\n",
    "import seaborn as sns"
   ]
  },
  {
   "cell_type": "code",
   "execution_count": 3,
   "id": "3881b12f",
   "metadata": {
    "id": "3881b12f"
   },
   "outputs": [],
   "source": [
    "# Load the dataset\n",
    "df = pd.read_csv('Tempat-Wisata-Toba-Preprocessing.csv')"
   ]
  },
  {
   "cell_type": "code",
   "execution_count": 4,
   "id": "141a4569",
   "metadata": {
    "colab": {
     "base_uri": "https://localhost:8080/"
    },
    "id": "141a4569",
    "outputId": "34c60109-af5e-4839-8577-12eead999346"
   },
   "outputs": [
    {
     "name": "stdout",
     "output_type": "stream",
     "text": [
      "   Unnamed: 0.1  Unnamed: 0  \\\n",
      "0             0           0   \n",
      "1             1           1   \n",
      "2             2           2   \n",
      "3             3           3   \n",
      "4             4           4   \n",
      "\n",
      "                                             address  PlaceID  \\\n",
      "0  Jl. Sibola Hotang, Sibola Hotangsas, Kec. Bali...        0   \n",
      "1  Jl. Sibola Hotang, Sibola Hotangsas, Kec. Bali...        0   \n",
      "2  Jl. Sibola Hotang, Sibola Hotangsas, Kec. Bali...        0   \n",
      "3  Jl. Sibola Hotang, Sibola Hotangsas, Kec. Bali...        0   \n",
      "4  Jl. Sibola Hotang, Sibola Hotangsas, Kec. Bali...        0   \n",
      "\n",
      "          Nama_tempat_wisata       Category    ReviewerId  Rating  \\\n",
      "0  PASIR PUTIH LUMBAN BULBUL  Wisata Bahari  1.126030e+20     5.0   \n",
      "1  PASIR PUTIH LUMBAN BULBUL  Wisata Bahari  1.119090e+20     5.0   \n",
      "2  PASIR PUTIH LUMBAN BULBUL  Wisata Bahari  1.078860e+20     5.0   \n",
      "3  PASIR PUTIH LUMBAN BULBUL  Wisata Bahari  1.130720e+20     5.0   \n",
      "4  PASIR PUTIH LUMBAN BULBUL  Wisata Bahari  1.061730e+20     5.0   \n",
      "\n",
      "                         Reviews  \n",
      "0                            NaN  \n",
      "1                          bagus  \n",
      "2                            NaN  \n",
      "3             sangat menyenagkan  \n",
      "4  bebas foto dimana aja cuma 2k  \n"
     ]
    }
   ],
   "source": [
    "# Cek struktur dataset\n",
    "print(df.head())"
   ]
  },
  {
   "cell_type": "markdown",
   "id": "afbf5bc3",
   "metadata": {
    "id": "afbf5bc3"
   },
   "source": [
    "Mempersiapkan dataset dengan memilih hanya kolom yang relevan, yaitu ReviewerId, PlaceID, dan Rating, kemudian menghapus baris yang memiliki nilai kosong menggunakan dropna(). Setelah itu, tipe data untuk kolom ReviewerId dan PlaceID diubah menjadi integer, sementara kolom Rating diubah menjadi tipe float untuk memastikan kesesuaian format data dengan analisis selanjutnya. Proses ini memastikan bahwa data yang digunakan bersih, lengkap, dan dalam format yang tepat untuk diproses lebih lanjut dalam model rekomendasi."
   ]
  },
  {
   "cell_type": "code",
   "execution_count": 5,
   "id": "e4472232",
   "metadata": {
    "id": "e4472232"
   },
   "outputs": [],
   "source": [
    "# Preprocessing the data: keep only relevant columns and drop rows with missing values\n",
    "cleaned_data = df[['ReviewerId', 'PlaceID', 'Rating']].dropna()\n",
    "cleaned_data['ReviewerId'] = cleaned_data['ReviewerId'].astype(int)\n",
    "cleaned_data['PlaceID'] = cleaned_data['PlaceID'].astype(int)\n",
    "cleaned_data['Rating'] = cleaned_data['Rating'].astype(float)"
   ]
  },
  {
   "cell_type": "code",
   "execution_count": 6,
   "id": "d4ca3ee5",
   "metadata": {
    "id": "d4ca3ee5"
   },
   "outputs": [],
   "source": [
    "# Map user and place IDs to indices for the matrix\n",
    "user_mapping = {user_id: idx for idx, user_id in enumerate(cleaned_data['ReviewerId'].unique())}\n",
    "place_mapping = {place_id: idx for idx, place_id in enumerate(cleaned_data['PlaceID'].unique())}\n",
    "\n",
    "cleaned_data['user_index'] = cleaned_data['ReviewerId'].map(user_mapping)\n",
    "cleaned_data['place_index'] = cleaned_data['PlaceID'].map(place_mapping)"
   ]
  },
  {
   "cell_type": "code",
   "execution_count": 7,
   "id": "03fb878f",
   "metadata": {
    "id": "03fb878f"
   },
   "outputs": [],
   "source": [
    "# Create user-item interaction matrix\n",
    "num_users = len(user_mapping)\n",
    "num_places = len(place_mapping)\n",
    "interaction_matrix = np.zeros((num_users, num_places))\n",
    "\n",
    "for _, row in cleaned_data.iterrows():\n",
    "    interaction_matrix[int(row['user_index']), int(row['place_index'])] = row['Rating']"
   ]
  },
  {
   "cell_type": "code",
   "execution_count": 8,
   "id": "3c32acd6",
   "metadata": {
    "id": "3c32acd6"
   },
   "outputs": [],
   "source": [
    "# Membagi dataset menjadi train (70%), validation (15%), dan test (15%)\n",
    "# Convert the interaction_matrix to a DataFrame first\n",
    "pivot_df = pd.DataFrame(interaction_matrix)\n",
    "# reset index for user and item\n",
    "pivot_df = pivot_df.reset_index().rename(columns={'index':'user_index'})\n",
    "pivot_df = pivot_df.melt(id_vars='user_index',var_name='place_index', value_name='Rating')\n",
    "# cast index to int\n",
    "pivot_df['place_index'] = pivot_df['place_index'].astype(int)\n",
    "# filter zero rating data\n",
    "pivot_df = pivot_df[pivot_df['Rating']>0]\n",
    "\n",
    "train_df, temp_df = train_test_split(pivot_df, test_size=0.3, random_state=42)\n",
    "val_df, test_df = train_test_split(temp_df, test_size=0.5, random_state=42)"
   ]
  },
  {
   "cell_type": "markdown",
   "id": "fdd25849",
   "metadata": {},
   "source": [
    "## Pearson Correlation"
   ]
  },
  {
   "cell_type": "code",
   "execution_count": 9,
   "id": "ee306942",
   "metadata": {
    "id": "ee306942"
   },
   "outputs": [],
   "source": [
    "# Function to compute Pearson Correlation similarity matrix for items (places)\n",
    "def compute_pearson_similarity(interaction_matrix):\n",
    "    # Normalize the interaction matrix by subtracting the mean rating per user\n",
    "    user_means = np.mean(interaction_matrix, axis=1)\n",
    "    interaction_matrix_normalized = interaction_matrix - user_means[:, np.newaxis]\n",
    "\n",
    "    # Compute the Pearson correlation matrix between items (places)\n",
    "    # Transpose to calculate item-item similarity\n",
    "    similarity_matrix = np.corrcoef(interaction_matrix_normalized.T)\n",
    "\n",
    "    # Handling NaN values (if there is no variation in ratings for an item)\n",
    "    similarity_matrix = np.nan_to_num(similarity_matrix)  # Convert NaNs to 0\n",
    "\n",
    "    # Ensure that diagonal values are set to 0 (no similarity with itself)\n",
    "    np.fill_diagonal(similarity_matrix, 0)\n",
    "\n",
    "    return similarity_matrix"
   ]
  },
  {
   "cell_type": "code",
   "execution_count": 10,
   "id": "f89bc662",
   "metadata": {
    "colab": {
     "base_uri": "https://localhost:8080/"
    },
    "id": "f89bc662",
    "outputId": "e2dc6af2-599c-41b3-e74c-c8b722d67263"
   },
   "outputs": [
    {
     "name": "stderr",
     "output_type": "stream",
     "text": [
      "C:\\Users\\User\\anaconda3\\lib\\site-packages\\numpy\\lib\\function_base.py:2821: RuntimeWarning: Degrees of freedom <= 0 for slice\n",
      "  c = cov(x, y, rowvar, dtype=dtype)\n",
      "C:\\Users\\User\\anaconda3\\lib\\site-packages\\numpy\\lib\\function_base.py:2680: RuntimeWarning: divide by zero encountered in true_divide\n",
      "  c *= np.true_divide(1, fact)\n",
      "C:\\Users\\User\\anaconda3\\lib\\site-packages\\numpy\\lib\\function_base.py:2680: RuntimeWarning: invalid value encountered in multiply\n",
      "  c *= np.true_divide(1, fact)\n"
     ]
    }
   ],
   "source": [
    "# Compute similarity matrix using Pearson Correlation\n",
    "similarity_matrix = compute_pearson_similarity(interaction_matrix)"
   ]
  },
  {
   "cell_type": "code",
   "execution_count": 11,
   "id": "b912572d",
   "metadata": {
    "id": "b912572d"
   },
   "outputs": [],
   "source": [
    "# Function to recommend items based on similarity (IBCF)\n",
    "def recommend_items(user_index, top_n=10):\n",
    "    # Get the user's ratings\n",
    "    user_ratings = interaction_matrix[user_index]\n",
    "\n",
    "    # Calculate predicted ratings for all items (places)\n",
    "    predicted_ratings = similarity_matrix.dot(user_ratings) / np.array([np.abs(similarity_matrix).sum(axis=1)])\n",
    "\n",
    "    # Sort items by predicted rating (highest to lowest)\n",
    "    top_items = np.argsort(predicted_ratings)[::-1][:top_n]\n",
    "\n",
    "    return top_items"
   ]
  },
  {
   "cell_type": "code",
   "execution_count": 12,
   "id": "159294b7",
   "metadata": {
    "id": "159294b7"
   },
   "outputs": [],
   "source": [
    "# Function to evaluate model using RMSE, MAE, Precision, Recall, and MAP\n",
    "def evaluate_model(test_data, similarity_matrix, top_n=10):\n",
    "    y_true = []\n",
    "    y_pred = []\n",
    "\n",
    "    for _, row in test_data.iterrows():\n",
    "        user_index = int(row['user_index'])\n",
    "        place_index = int(row['place_index'])\n",
    "        true_rating = row['Rating']\n",
    "\n",
    "        # Get the top N recommendations for the user\n",
    "        recommended_items = recommend_items(user_index, top_n=top_n)\n",
    "\n",
    "        if place_index in recommended_items:\n",
    "            y_true.append(1)  # True positive (relevant item)\n",
    "        else:\n",
    "            y_true.append(0)  # False negative (non-relevant item)\n",
    "\n",
    "        # We append the true rating as prediction for evaluation\n",
    "        y_pred.append(true_rating)\n",
    "\n",
    "    # Calculate RMSE and MAE\n",
    "    rmse = np.sqrt(mean_squared_error(y_true, y_pred))\n",
    "    mae = mean_absolute_error(y_true, y_pred)\n",
    "\n",
    "    # Precision, Recall, MAP for ranking-based evaluation\n",
    "    # Changed the average from 'binary' to 'micro', 'macro', or 'weighted' for multiclass\n",
    "    precision = precision_score(y_true, y_pred, average='micro', zero_division=1)\n",
    "    recall = recall_score(y_true, y_pred, average='micro', zero_division=1)\n",
    "    map_score = average_precision_score(y_true, y_pred)\n",
    "\n",
    "    return rmse, mae, precision, recall, map_score"
   ]
  },
  {
   "cell_type": "code",
   "execution_count": 13,
   "id": "d8ce75ac",
   "metadata": {
    "colab": {
     "base_uri": "https://localhost:8080/"
    },
    "id": "d8ce75ac",
    "outputId": "abc72104-53c4-401a-d844-89abe34403c5"
   },
   "outputs": [
    {
     "name": "stderr",
     "output_type": "stream",
     "text": [
      "C:\\Users\\User\\AppData\\Local\\Temp\\ipykernel_18748\\2880543351.py:7: RuntimeWarning: invalid value encountered in true_divide\n",
      "  predicted_ratings = similarity_matrix.dot(user_ratings) / np.array([np.abs(similarity_matrix).sum(axis=1)])\n",
      "C:\\Users\\User\\AppData\\Local\\Temp\\ipykernel_18748\\2880543351.py:7: RuntimeWarning: invalid value encountered in true_divide\n",
      "  predicted_ratings = similarity_matrix.dot(user_ratings) / np.array([np.abs(similarity_matrix).sum(axis=1)])\n"
     ]
    }
   ],
   "source": [
    "# Evaluate for Top 5 and Top 10 recommendations\n",
    "rmse_5, mae_5, precision_5, recall_5, map_5 = evaluate_model(test_df, similarity_matrix, top_n=5) # Changed test_data to test_df\n",
    "rmse_10, mae_10, precision_10, recall_10, map_10 = evaluate_model(test_df, similarity_matrix, top_n=10) # Changed test_data to test_df"
   ]
  },
  {
   "cell_type": "code",
   "execution_count": 14,
   "id": "d64da4e5",
   "metadata": {
    "colab": {
     "base_uri": "https://localhost:8080/"
    },
    "id": "d64da4e5",
    "outputId": "594cc8bf-8b88-4de1-919d-9295322399af"
   },
   "outputs": [
    {
     "name": "stdout",
     "output_type": "stream",
     "text": [
      "         Metric     Score\n",
      "0          RMSE  3.230712\n",
      "1           MAE  2.937500\n",
      "2   Precision@5  0.125000\n",
      "3      Recall@5  0.125000\n",
      "4         MAP@5  1.000000\n",
      "5  Precision@10  0.125000\n",
      "6     Recall@10  0.125000\n",
      "7        MAP@10  1.000000\n"
     ]
    }
   ],
   "source": [
    "# Display the results in a DataFrame\n",
    "results = pd.DataFrame({\n",
    "    'Metric': ['RMSE', 'MAE', 'Precision@5', 'Recall@5', 'MAP@5', 'Precision@10', 'Recall@10', 'MAP@10'],\n",
    "    'Score': [rmse_5, mae_5, precision_5, recall_5, map_5, precision_10, recall_10, map_10]\n",
    "})\n",
    "\n",
    "print(results)\n"
   ]
  },
  {
   "cell_type": "code",
   "execution_count": 15,
   "id": "5f472785",
   "metadata": {
    "colab": {
     "base_uri": "https://localhost:8080/",
     "height": 429
    },
    "id": "5f472785",
    "outputId": "38f5bcd1-93c6-4390-8769-e8d211aaa99e"
   },
   "outputs": [
    {
     "data": {
      "image/png": "[encoded data removed]",
      "text/plain": [
       "<Figure size 864x432 with 2 Axes>"
      ]
     },
     "metadata": {
      "needs_background": "light"
     },
     "output_type": "display_data"
    }
   ],
   "source": [
    "# Visualize the results\n",
    "fig, ax = plt.subplots(1, 2, figsize=(12, 6))\n",
    "sns.barplot(x='Metric', y='Score', data=results.loc[results['Metric'].isin(['RMSE', 'MAE'])], ax=ax[0])\n",
    "ax[0].set_title('Rating Metrics (RMSE, MAE)')\n",
    "sns.barplot(x='Metric', y='Score', data=results.loc[results['Metric'].isin(['Precision@5', 'Recall@5', 'MAP@5', 'Precision@10', 'Recall@10', 'MAP@10'])], ax=ax[1])\n",
    "ax[1].set_title('Ranking Metrics (Precision, Recall, MAP)')\n",
    "plt.tight_layout()\n",
    "plt.show()"
   ]
  },
  {
   "cell_type": "code",
   "execution_count": null,
   "id": "1b4d8ae6",
   "metadata": {
    "id": "1b4d8ae6"
   },
   "outputs": [],
   "source": []
  }
 ],
 "metadata": {
  "colab": {
   "provenance": []
  },
  "kernelspec": {
   "display_name": "Python 3 (ipykernel)",
   "language": "python",
   "name": "python3"
  },
  "language_info": {
   "codemirror_mode": {
    "name": "ipython",
    "version": 3
   },
   "file_extension": ".py",
   "mimetype": "text/x-python",
   "name": "python",
   "nbconvert_exporter": "python",
   "pygments_lexer": "ipython3",
   "version": "3.9.12"
  }
 },
 "nbformat": 4,
 "nbformat_minor": 5
}
