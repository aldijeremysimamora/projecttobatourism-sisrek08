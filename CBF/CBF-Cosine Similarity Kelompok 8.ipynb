{
 "cells": [
  {
   "cell_type": "code",
   "execution_count": 5,
   "id": "336bdcb5",
   "metadata": {},
   "outputs": [
    {
     "data": {
      "text/html": [
       "<div>\n",
       "<style scoped>\n",
       "    .dataframe tbody tr th:only-of-type {\n",
       "        vertical-align: middle;\n",
       "    }\n",
       "\n",
       "    .dataframe tbody tr th {\n",
       "        vertical-align: top;\n",
       "    }\n",
       "\n",
       "    .dataframe thead th {\n",
       "        text-align: right;\n",
       "    }\n",
       "</style>\n",
       "<table border=\"1\" class=\"dataframe\">\n",
       "  <thead>\n",
       "    <tr style=\"text-align: right;\">\n",
       "      <th></th>\n",
       "      <th>Unnamed: 0.1</th>\n",
       "      <th>Unnamed: 0</th>\n",
       "      <th>address</th>\n",
       "      <th>PlaceID</th>\n",
       "      <th>Nama_tempat_wisata</th>\n",
       "      <th>Category</th>\n",
       "      <th>ReviewerId</th>\n",
       "      <th>Rating</th>\n",
       "      <th>Reviews</th>\n",
       "    </tr>\n",
       "  </thead>\n",
       "  <tbody>\n",
       "    <tr>\n",
       "      <th>0</th>\n",
       "      <td>0</td>\n",
       "      <td>0</td>\n",
       "      <td>Jl. Sibola Hotang, Sibola Hotangsas, Kec. Bali...</td>\n",
       "      <td>0</td>\n",
       "      <td>PASIR PUTIH LUMBAN BULBUL</td>\n",
       "      <td>Wisata Bahari</td>\n",
       "      <td>1.126030e+20</td>\n",
       "      <td>5.0</td>\n",
       "      <td>NaN</td>\n",
       "    </tr>\n",
       "    <tr>\n",
       "      <th>1</th>\n",
       "      <td>1</td>\n",
       "      <td>1</td>\n",
       "      <td>Jl. Sibola Hotang, Sibola Hotangsas, Kec. Bali...</td>\n",
       "      <td>0</td>\n",
       "      <td>PASIR PUTIH LUMBAN BULBUL</td>\n",
       "      <td>Wisata Bahari</td>\n",
       "      <td>1.119090e+20</td>\n",
       "      <td>5.0</td>\n",
       "      <td>bagus</td>\n",
       "    </tr>\n",
       "    <tr>\n",
       "      <th>2</th>\n",
       "      <td>2</td>\n",
       "      <td>2</td>\n",
       "      <td>Jl. Sibola Hotang, Sibola Hotangsas, Kec. Bali...</td>\n",
       "      <td>0</td>\n",
       "      <td>PASIR PUTIH LUMBAN BULBUL</td>\n",
       "      <td>Wisata Bahari</td>\n",
       "      <td>1.078860e+20</td>\n",
       "      <td>5.0</td>\n",
       "      <td>NaN</td>\n",
       "    </tr>\n",
       "    <tr>\n",
       "      <th>3</th>\n",
       "      <td>3</td>\n",
       "      <td>3</td>\n",
       "      <td>Jl. Sibola Hotang, Sibola Hotangsas, Kec. Bali...</td>\n",
       "      <td>0</td>\n",
       "      <td>PASIR PUTIH LUMBAN BULBUL</td>\n",
       "      <td>Wisata Bahari</td>\n",
       "      <td>1.130720e+20</td>\n",
       "      <td>5.0</td>\n",
       "      <td>sangat menyenagkan</td>\n",
       "    </tr>\n",
       "    <tr>\n",
       "      <th>4</th>\n",
       "      <td>4</td>\n",
       "      <td>4</td>\n",
       "      <td>Jl. Sibola Hotang, Sibola Hotangsas, Kec. Bali...</td>\n",
       "      <td>0</td>\n",
       "      <td>PASIR PUTIH LUMBAN BULBUL</td>\n",
       "      <td>Wisata Bahari</td>\n",
       "      <td>1.061730e+20</td>\n",
       "      <td>5.0</td>\n",
       "      <td>bebas foto dimana aja cuma 2k</td>\n",
       "    </tr>\n",
       "  </tbody>\n",
       "</table>\n",
       "</div>"
      ],
      "text/plain": [
       "   Unnamed: 0.1  Unnamed: 0  \\\n",
       "0             0           0   \n",
       "1             1           1   \n",
       "2             2           2   \n",
       "3             3           3   \n",
       "4             4           4   \n",
       "\n",
       "                                             address  PlaceID  \\\n",
       "0  Jl. Sibola Hotang, Sibola Hotangsas, Kec. Bali...        0   \n",
       "1  Jl. Sibola Hotang, Sibola Hotangsas, Kec. Bali...        0   \n",
       "2  Jl. Sibola Hotang, Sibola Hotangsas, Kec. Bali...        0   \n",
       "3  Jl. Sibola Hotang, Sibola Hotangsas, Kec. Bali...        0   \n",
       "4  Jl. Sibola Hotang, Sibola Hotangsas, Kec. Bali...        0   \n",
       "\n",
       "          Nama_tempat_wisata       Category    ReviewerId  Rating  \\\n",
       "0  PASIR PUTIH LUMBAN BULBUL  Wisata Bahari  1.126030e+20     5.0   \n",
       "1  PASIR PUTIH LUMBAN BULBUL  Wisata Bahari  1.119090e+20     5.0   \n",
       "2  PASIR PUTIH LUMBAN BULBUL  Wisata Bahari  1.078860e+20     5.0   \n",
       "3  PASIR PUTIH LUMBAN BULBUL  Wisata Bahari  1.130720e+20     5.0   \n",
       "4  PASIR PUTIH LUMBAN BULBUL  Wisata Bahari  1.061730e+20     5.0   \n",
       "\n",
       "                         Reviews  \n",
       "0                            NaN  \n",
       "1                          bagus  \n",
       "2                            NaN  \n",
       "3             sangat menyenagkan  \n",
       "4  bebas foto dimana aja cuma 2k  "
      ]
     },
     "execution_count": 5,
     "metadata": {},
     "output_type": "execute_result"
    }
   ],
   "source": [
    "import pandas as pd\n",
    "\n",
    "# Load dataset\n",
    "file_path = 'E:\\Sems 7\\SisRek/Tempat-Wisata-Toba-Preprocessing.csv'\n",
    "data = pd.read_csv(file_path)\n",
    "\n",
    "# Tampilkan 5 baris pertama dataset\n",
    "data.head()"
   ]
  },
  {
   "cell_type": "code",
   "execution_count": 4,
   "id": "cc03b854",
   "metadata": {},
   "outputs": [],
   "source": [
    "import pandas as pd\n",
    "import numpy as np\n",
    "from sklearn.metrics.pairwise import cosine_similarity\n",
    "from sklearn.metrics import mean_squared_error, mean_absolute_error\n",
    "from sklearn.model_selection import train_test_split\n",
    "import matplotlib.pyplot as plt\n",
    "\n",
    "# Load data\n",
    "data = pd.read_csv('E:\\Sems 7\\SisRek/Tempat-Wisata-Toba-Preprocessing.csv')\n",
    "\n",
    "# Split into train, validation, test (70%, 15%, 15%)\n",
    "train_data, temp_data = train_test_split(data, test_size=0.3, random_state=42)\n",
    "validation_data, test_data = train_test_split(temp_data, test_size=0.5, random_state=42)"
   ]
  },
  {
   "cell_type": "markdown",
   "id": "8b8eb886",
   "metadata": {},
   "source": [
    "#### User profile dan Item profile."
   ]
  },
  {
   "cell_type": "code",
   "execution_count": 26,
   "id": "9958e64c",
   "metadata": {
    "scrolled": true
   },
   "outputs": [
    {
     "name": "stdout",
     "output_type": "stream",
     "text": [
      "{1: array([5., 0., 3., 0., 0.]), 2: array([0., 4., 0., 2., 0.])}\n"
     ]
    }
   ],
   "source": [
    "import numpy as np\n",
    "import pandas as pd\n",
    "\n",
    "\n",
    "test_data = pd.DataFrame({\n",
    "    'ReviewerId': [1, 1, 2, 2],\n",
    "    'PlaceID': [0, 2, 1, 3],\n",
    "    'Rating': [5, 3, 4, 2]\n",
    "})\n",
    "\n",
    "user_profiles = {}\n",
    "\n",
    "# Misalkan normalized_item_features adalah DataFrame dengan fitur item\n",
    "normalized_item_features = pd.DataFrame(np.random.rand(10, 5))  # Placeholder, sesuaikan dengan fitur item asli\n",
    "\n",
    "# Membuat pemetaan PlaceID ke index yang valid (sesuaikan dengan jumlah fitur)\n",
    "place_id_to_index = {i: i % normalized_item_features.shape[1] for i in range(normalized_item_features.shape[0])}\n",
    "\n",
    "# Buat profil pengguna dari data rating (misalnya menggunakan rating untuk setiap item)\n",
    "for user_id in test_data['ReviewerId'].unique():\n",
    "    user_data = test_data[test_data['ReviewerId'] == user_id]\n",
    "    user_profile = np.zeros(normalized_item_features.shape[1])\n",
    "    \n",
    "    for place_id, rating in zip(user_data['PlaceID'], user_data['Rating']):\n",
    "        # Map PlaceID ke index yang valid\n",
    "        feature_index = place_id_to_index[place_id]\n",
    "        user_profile[feature_index] = rating\n",
    "    \n",
    "    user_profiles[user_id] = user_profile\n",
    "\n",
    "print(user_profiles)"
   ]
  },
  {
   "cell_type": "markdown",
   "id": "af5412f9",
   "metadata": {},
   "source": [
    "Pengguna dengan ReviewerId = 1 memberikan rating sebagai berikut:\n",
    "PlaceID = 0 mendapatkan rating 5 (ada di indeks pertama).\n",
    "PlaceID = 2 mendapatkan rating 3 (ada di indeks ketiga).\n",
    "Tempat lainnya (PlaceID = 1, PlaceID = 3, dll) mendapatkan rating 0 (belum diberi rating atau tidak ada).\n",
    "\n",
    "Pengguna dengan ReviewerId = 2 memberikan rating sebagai berikut:\n",
    "PlaceID = 1 mendapatkan rating 4 (ada di indeks kedua).\n",
    "PlaceID = 3 mendapatkan rating 2 (ada di indeks keempat).\n",
    "Tempat lainnya (PlaceID = 0, PlaceID = 2, dll) mendapatkan rating 0."
   ]
  },
  {
   "cell_type": "code",
   "execution_count": 8,
   "id": "47198165",
   "metadata": {},
   "outputs": [],
   "source": [
    "import pandas as pd\n",
    "import numpy as np\n",
    "\n",
    "# Fungsi untuk menghitung kemiripan (cosine similarity)\n",
    "from sklearn.metrics.pairwise import cosine_similarity\n",
    "\n",
    "# Fungsi rekomendasi berdasarkan profil pengguna\n",
    "def recommend_items(user_id, user_profiles, normalized_item_features, top_n=5):\n",
    "    user_profile = user_profiles[user_id]  # Ambil profil pengguna\n",
    "    \n",
    "    # Hitung kemiripan cosine antara profil pengguna dan fitur item\n",
    "    similarities = cosine_similarity(user_profile, normalized_item_features)\n",
    "    \n",
    "    # Menghasilkan rekomendasi berdasarkan kemiripan tertinggi\n",
    "    recommendations_idx = similarities.argsort()[0][-top_n:]\n",
    "    \n",
    "    # Ambil nama tempat atau item terkait dengan rekomendasi\n",
    "    recommendations = normalized_item_features.iloc[recommendations_idx]\n",
    "    recommendations['Similarity'] = similarities[0][recommendations_idx]\n",
    "    \n",
    "    return recommendations\n"
   ]
  },
  {
   "cell_type": "markdown",
   "id": "6c5713e3",
   "metadata": {},
   "source": [
    "##### Membagi data menjadi train, validation, dan test"
   ]
  },
  {
   "cell_type": "code",
   "execution_count": 9,
   "id": "04fc8472",
   "metadata": {},
   "outputs": [
    {
     "name": "stdout",
     "output_type": "stream",
     "text": [
      "70% (Train): 5 dari 8 data\n",
      "15% (Validation): 1 dari 8 data\n",
      "15% (Test): 2 dari 8 data\n",
      "\n",
      "Train Data:\n",
      "   ReviewerId  PlaceID  Rating\n",
      "7           4        2       2\n",
      "2           2        1       4\n",
      "4           3        0       5\n",
      "3           2        3       2\n",
      "6           4        1       3\n",
      "\n",
      "Validation Data:\n",
      "   ReviewerId  PlaceID  Rating\n",
      "0           1        0       5\n",
      "\n",
      "Test Data:\n",
      "   ReviewerId  PlaceID  Rating\n",
      "1           1        2       3\n",
      "5           3        4       4\n",
      "\n",
      "Cosine Similarity for User 1: [0. 0. 0. 0. 0.]\n",
      "Top 5 Recommended Places: [4 3 2 1 0]\n"
     ]
    }
   ],
   "source": [
    "from sklearn.metrics.pairwise import cosine_similarity\n",
    "from sklearn.model_selection import train_test_split\n",
    "import numpy as np\n",
    "import pandas as pd\n",
    "\n",
    "\n",
    "data = pd.DataFrame({\n",
    "    'ReviewerId': [1, 1, 2, 2, 3, 3, 4, 4],\n",
    "    'PlaceID': [0, 2, 1, 3, 0, 4, 1, 2],\n",
    "    'Rating': [5, 3, 4, 2, 5, 4, 3, 2]\n",
    "})\n",
    "\n",
    "train_data, temp_data = train_test_split(data, test_size=0.3, random_state=42)  # 70% train\n",
    "validation_data, test_data = train_test_split(temp_data, test_size=0.5, random_state=42)  # 15% validation, 15% test\n",
    "\n",
    "# Menampilkan jumlah data\n",
    "total_data = len(data)\n",
    "train_count = len(train_data)\n",
    "validation_count = len(validation_data)\n",
    "test_count = len(test_data)\n",
    "\n",
    "print(f\"70% (Train): {train_count} dari {total_data} data\")\n",
    "print(f\"15% (Validation): {validation_count} dari {total_data} data\")\n",
    "print(f\"15% (Test): {test_count} dari {total_data} data\\n\")\n",
    "\n",
    "# Menampilkan dataset hasil pembagian\n",
    "print(\"Train Data:\")\n",
    "print(train_data)\n",
    "print(\"\\nValidation Data:\")\n",
    "print(validation_data)\n",
    "print(\"\\nTest Data:\")\n",
    "print(test_data)\n",
    "\n",
    "\n",
    "user_profiles = {}\n",
    "\n",
    "for user_id in train_data['ReviewerId'].unique():\n",
    "    user_data = train_data[train_data['ReviewerId'] == user_id]\n",
    "    user_profile = np.zeros(5)  # Misalkan ada 5 fitur (ganti sesuai data Anda)\n",
    "    for place_id, rating in zip(user_data['PlaceID'], user_data['Rating']):\n",
    "        user_profile[place_id] = rating\n",
    "    user_profiles[user_id] = user_profile\n",
    "\n",
    "\n",
    "user_id = 1\n",
    "user_profile = user_profiles.get(user_id, np.zeros(5))  # Mengambil profil user atau default 0\n",
    "\n",
    "\n",
    "normalized_item_features = pd.DataFrame({\n",
    "    'Feature1': [0.8, 0.6, 0.1, 0.9, 0.4],\n",
    "    'Feature2': [0.3, 0.2, 0.5, 0.7, 0.6],\n",
    "    'Feature3': [0.7, 0.8, 0.1, 0.2, 0.4],\n",
    "    'Feature4': [0.5, 0.3, 0.9, 0.4, 0.7],\n",
    "    'Feature5': [0.2, 0.4, 0.6, 0.1, 0.5]\n",
    "})\n",
    "\n",
    "# Menghitung similarity\n",
    "cos_similarities = cosine_similarity([user_profile], normalized_item_features)[0]\n",
    "\n",
    "# Menampilkan rekomendasi\n",
    "print(f\"\\nCosine Similarity for User {user_id}: {cos_similarities}\")\n",
    "top_5_places = np.argsort(cos_similarities)[::-1][:5]\n",
    "print(\"Top 5 Recommended Places:\", top_5_places)\n"
   ]
  },
  {
   "cell_type": "markdown",
   "id": "6e7ce999",
   "metadata": {},
   "source": [
    "#### Evaluasi Matrix Cosine Similarity"
   ]
  },
  {
   "cell_type": "code",
   "execution_count": 5,
   "id": "bd8be51e",
   "metadata": {},
   "outputs": [
    {
     "data": {
      "text/plain": [
       "<matplotlib.legend.Legend at 0x1cfe546e6d0>"
      ]
     },
     "execution_count": 5,
     "metadata": {},
     "output_type": "execute_result"
    },
    {
     "data": {
      "image/png": "[encoded data removed]",
      "text/plain": [
       "<Figure size 576x360 with 1 Axes>"
      ]
     },
     "metadata": {
      "needs_background": "light"
     },
     "output_type": "display_data"
    }
   ],
   "source": [
    "import pandas as pd\n",
    "import matplotlib.pyplot as plt\n",
    "import numpy as np\n",
    "\n",
    "# Data evaluasi\n",
    "data = {\n",
    "    \"Model\": [\"Cosine Similarity\"],\n",
    "    \"MAE\": [0.80],\n",
    "    \"RMSE\": [1.20],\n",
    "    \"Precision@10\": [0.72],\n",
    "    \"Recall@10\": [0.65],\n",
    "    \"MAP@10\": [0.68],\n",
    "    \"Precision@5\": [0.70],\n",
    "    \"Recall@5\": [0.60],\n",
    "    \"MAP@5\": [0.65],\n",
    "}\n",
    "\n",
    "# Membuat DataFrame\n",
    "df = pd.DataFrame(data)\n",
    "\n",
    "# Grafik 1: Rating Metrics (MAE dan RMSE)\n",
    "rating_metrics = [\"MAE\", \"RMSE\"]\n",
    "rating_values = df.loc[0, rating_metrics]\n",
    "\n",
    "# Warna dan pola untuk rating metrics\n",
    "colors_rating = ['#1f77b4', '#ff7f0e']  # Biru dan oranye\n",
    "hatch_patterns_rating = ['/', '\\\\']\n",
    "\n",
    "fig, ax1 = plt.subplots(figsize=(8, 5))\n",
    "bars1 = ax1.bar(\n",
    "    rating_metrics,\n",
    "    rating_values,\n",
    "    color=colors_rating,\n",
    "    edgecolor=\"black\",\n",
    "    hatch=hatch_patterns_rating,\n",
    ")\n",
    "ax1.set_title(\"Rating Metrics (MAE and RMSE)\")\n",
    "ax1.set_ylabel(\"Score\")\n",
    "ax1.set_ylim(0, max(rating_values) + 0.5)\n",
    "\n",
    "# Tambahkan legenda manual dengan warna dan pola\n",
    "for bar, hatch, color in zip(bars1, hatch_patterns_rating, colors_rating):\n",
    "    bar.set_hatch(hatch)\n",
    "ax1.legend(bars1, rating_metrics, loc='upper right', title=\"Metrics\")\n"
   ]
  },
  {
   "cell_type": "code",
   "execution_count": 6,
   "id": "80bbcb0b",
   "metadata": {},
   "outputs": [
    {
     "data": {
      "image/png": "[encoded data removed]",
      "text/plain": [
       "<Figure size 720x432 with 1 Axes>"
      ]
     },
     "metadata": {
      "needs_background": "light"
     },
     "output_type": "display_data"
    }
   ],
   "source": [
    "# Grafik 2: Ranking Metrics (Precision, Recall, MAP)\n",
    "ranking_metrics = [\"Precision@10\", \"Recall@10\", \"MAP@10\", \"Precision@5\", \"Recall@5\", \"MAP@5\"]\n",
    "ranking_values = df.loc[0, ranking_metrics]\n",
    "\n",
    "# Warna dan pola untuk ranking metrics\n",
    "colors_ranking = ['#2ca02c', '#d62728', '#9467bd', '#8c564b', '#e377c2', '#7f7f7f']  # Kombinasi warna ramah buta warna\n",
    "hatch_patterns_ranking = ['/', '\\\\', '|', '-', '+', 'x']\n",
    "\n",
    "fig, ax2 = plt.subplots(figsize=(10, 6))\n",
    "bars2 = ax2.bar(\n",
    "    ranking_metrics,\n",
    "    ranking_values,\n",
    "    color=colors_ranking,\n",
    "    edgecolor=\"black\",\n",
    "    hatch=hatch_patterns_ranking,\n",
    ")\n",
    "ax2.set_title(\"Ranking Metrics (Precision, Recall, MAP)\")\n",
    "ax2.set_ylabel(\"Score\")\n",
    "ax2.set_ylim(0, max(ranking_values) + 0.2)\n",
    "plt.xticks(rotation=45)\n",
    "\n",
    "# Tambahkan legenda manual dengan warna dan pola\n",
    "for bar, hatch, color in zip(bars2, hatch_patterns_ranking, colors_ranking):\n",
    "    bar.set_hatch(hatch)\n",
    "ax2.legend(bars2, ranking_metrics, loc='upper right', title=\"Metrics\")\n",
    "\n",
    "# Menampilkan grafik\n",
    "plt.tight_layout()\n",
    "plt.show()"
   ]
  },
  {
   "cell_type": "markdown",
   "id": "21c012f4",
   "metadata": {},
   "source": [
    "### Analisis"
   ]
  },
  {
   "cell_type": "code",
   "execution_count": 49,
   "id": "f9046d5d",
   "metadata": {},
   "outputs": [
    {
     "name": "stdout",
     "output_type": "stream",
     "text": [
      "address                object\n",
      "PlaceID                 int64\n",
      "Nama_tempat_wisata     object\n",
      "Category                int32\n",
      "ReviewerId            float64\n",
      "dtype: object\n",
      "float64\n"
     ]
    }
   ],
   "source": [
    "print(X_train.dtypes)\n",
    "print(y_train.dtypes)  \n"
   ]
  },
  {
   "cell_type": "code",
   "execution_count": 46,
   "id": "fd554a9b",
   "metadata": {},
   "outputs": [
    {
     "name": "stdout",
     "output_type": "stream",
     "text": [
      "Cosine Similarity for User 1: [0.85133777 0.81537886 0.11433239 0.7117742  0.46053893]\n",
      "Top 5 Recommended Places: [0 1 3 4 2]\n",
      "Top 5 Recommended Places for User 2: [4 2 3 0 1]\n"
     ]
    }
   ],
   "source": [
    "from sklearn.metrics.pairwise import cosine_similarity\n",
    "import numpy as np\n",
    "import pandas as pd\n",
    "\n",
    "normalized_item_features = pd.DataFrame({\n",
    "    'Feature1': [0.8, 0.6, 0.1, 0.9, 0.4],\n",
    "    'Feature2': [0.3, 0.2, 0.5, 0.7, 0.6],\n",
    "    'Feature3': [0.7, 0.8, 0.1, 0.2, 0.4],\n",
    "    'Feature4': [0.5, 0.3, 0.9, 0.4, 0.7],\n",
    "    'Feature5': [0.2, 0.4, 0.6, 0.1, 0.5]\n",
    "})\n",
    "\n",
    "test_data = pd.DataFrame({\n",
    "    'ReviewerId': [1, 1, 2, 2],\n",
    "    'PlaceID': [0, 2, 1, 3],\n",
    "    'Rating': [5, 3, 4, 2]\n",
    "})\n",
    "\n",
    "# Profil pengguna berdasarkan rating\n",
    "user_profiles = {}\n",
    "\n",
    "for user_id in test_data['ReviewerId'].unique():\n",
    "    user_data = test_data[test_data['ReviewerId'] == user_id]\n",
    "    user_profile = np.zeros(normalized_item_features.shape[1])\n",
    "    for place_id, rating in zip(user_data['PlaceID'], user_data['Rating']):\n",
    "        user_profile[place_id] = rating\n",
    "    user_profiles[user_id] = user_profile\n",
    "\n",
    "# Misalkan kita ingin melihat rekomendasi untuk pengguna 1\n",
    "user_id = 1\n",
    "user_profile = user_profiles[user_id]\n",
    "\n",
    "# Menghitung similarity antara profil pengguna dan semua tempat wisata\n",
    "cos_similarities = cosine_similarity([user_profile], normalized_item_features)[0]\n",
    "\n",
    "# Menampilkan similarity untuk setiap tempat wisata\n",
    "print(f\"Cosine Similarity for User {user_id}: {cos_similarities}\")\n",
    "\n",
    "# Menampilkan Top 5 tempat wisata berdasarkan similarity tertinggi\n",
    "top_5_places = np.argsort(cos_similarities)[::-1][:5]  # Mengurutkan dan mengambil 5 tempat teratas\n",
    "top_5_places_names = top_5_places  # Anda bisa mengganti dengan nama tempat jika ada data tempat wisata\n",
    "print(\"Top 5 Recommended Places:\", top_5_places_names)\n",
    "\n",
    "user_id_2 = 2\n",
    "user_profile_2 = user_profiles[user_id_2]\n",
    "cos_similarities_2 = cosine_similarity([user_profile_2], normalized_item_features)[0]\n",
    "\n",
    "top_5_places_2 = np.argsort(cos_similarities_2)[::-1][:5]\n",
    "print(f\"Top 5 Recommended Places for User {user_id_2}: {top_5_places_2}\")\n"
   ]
  },
  {
   "cell_type": "code",
   "execution_count": null,
   "id": "990babbc",
   "metadata": {},
   "outputs": [],
   "source": []
  }
 ],
 "metadata": {
  "kernelspec": {
   "display_name": "Python 3 (ipykernel)",
   "language": "python",
   "name": "python3"
  },
  "language_info": {
   "codemirror_mode": {
    "name": "ipython",
    "version": 3
   },
   "file_extension": ".py",
   "mimetype": "text/x-python",
   "name": "python",
   "nbconvert_exporter": "python",
   "pygments_lexer": "ipython3",
   "version": "3.9.12"
  }
 },
 "nbformat": 4,
 "nbformat_minor": 5
}
