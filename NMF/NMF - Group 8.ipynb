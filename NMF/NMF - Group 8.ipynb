{
 "cells": [
  {
   "cell_type": "markdown",
   "id": "4a56dda2",
   "metadata": {},
   "source": [
    "## Group 8\n",
    "# Toba Tourism Recommendation System Project\n",
    "#### 1. 12S21011 - Aldi Jeremy Simamora \n",
    "#### 2. 12S21034 - Lasni Sinta Uli Simanjuntak \n",
    "#### 3. 12S21036 - Astri Yuliana Siahaan"
   ]
  },
  {
   "cell_type": "markdown",
   "id": "7916b320",
   "metadata": {},
   "source": [
    "## Data Preparation"
   ]
  },
  {
   "cell_type": "code",
   "execution_count": 40,
   "id": "cd3fb5f9",
   "metadata": {},
   "outputs": [
    {
     "data": {
      "text/html": [
       "<div>\n",
       "<style scoped>\n",
       "    .dataframe tbody tr th:only-of-type {\n",
       "        vertical-align: middle;\n",
       "    }\n",
       "\n",
       "    .dataframe tbody tr th {\n",
       "        vertical-align: top;\n",
       "    }\n",
       "\n",
       "    .dataframe thead th {\n",
       "        text-align: right;\n",
       "    }\n",
       "</style>\n",
       "<table border=\"1\" class=\"dataframe\">\n",
       "  <thead>\n",
       "    <tr style=\"text-align: right;\">\n",
       "      <th></th>\n",
       "      <th>Unnamed: 0.1</th>\n",
       "      <th>Unnamed: 0</th>\n",
       "      <th>address</th>\n",
       "      <th>PlaceID</th>\n",
       "      <th>Nama_tempat_wisata</th>\n",
       "      <th>Category</th>\n",
       "      <th>ReviewerId</th>\n",
       "      <th>Rating</th>\n",
       "      <th>Reviews</th>\n",
       "    </tr>\n",
       "  </thead>\n",
       "  <tbody>\n",
       "    <tr>\n",
       "      <th>0</th>\n",
       "      <td>0</td>\n",
       "      <td>0</td>\n",
       "      <td>Jl. Sibola Hotang, Sibola Hotangsas, Kec. Bali...</td>\n",
       "      <td>0</td>\n",
       "      <td>PASIR PUTIH LUMBAN BULBUL</td>\n",
       "      <td>Wisata Bahari</td>\n",
       "      <td>1.126030e+20</td>\n",
       "      <td>5.0</td>\n",
       "      <td>NaN</td>\n",
       "    </tr>\n",
       "    <tr>\n",
       "      <th>1</th>\n",
       "      <td>1</td>\n",
       "      <td>1</td>\n",
       "      <td>Jl. Sibola Hotang, Sibola Hotangsas, Kec. Bali...</td>\n",
       "      <td>0</td>\n",
       "      <td>PASIR PUTIH LUMBAN BULBUL</td>\n",
       "      <td>Wisata Bahari</td>\n",
       "      <td>1.119090e+20</td>\n",
       "      <td>5.0</td>\n",
       "      <td>bagus</td>\n",
       "    </tr>\n",
       "    <tr>\n",
       "      <th>2</th>\n",
       "      <td>2</td>\n",
       "      <td>2</td>\n",
       "      <td>Jl. Sibola Hotang, Sibola Hotangsas, Kec. Bali...</td>\n",
       "      <td>0</td>\n",
       "      <td>PASIR PUTIH LUMBAN BULBUL</td>\n",
       "      <td>Wisata Bahari</td>\n",
       "      <td>1.078860e+20</td>\n",
       "      <td>5.0</td>\n",
       "      <td>NaN</td>\n",
       "    </tr>\n",
       "    <tr>\n",
       "      <th>3</th>\n",
       "      <td>3</td>\n",
       "      <td>3</td>\n",
       "      <td>Jl. Sibola Hotang, Sibola Hotangsas, Kec. Bali...</td>\n",
       "      <td>0</td>\n",
       "      <td>PASIR PUTIH LUMBAN BULBUL</td>\n",
       "      <td>Wisata Bahari</td>\n",
       "      <td>1.130720e+20</td>\n",
       "      <td>5.0</td>\n",
       "      <td>sangat menyenagkan</td>\n",
       "    </tr>\n",
       "    <tr>\n",
       "      <th>4</th>\n",
       "      <td>4</td>\n",
       "      <td>4</td>\n",
       "      <td>Jl. Sibola Hotang, Sibola Hotangsas, Kec. Bali...</td>\n",
       "      <td>0</td>\n",
       "      <td>PASIR PUTIH LUMBAN BULBUL</td>\n",
       "      <td>Wisata Bahari</td>\n",
       "      <td>1.061730e+20</td>\n",
       "      <td>5.0</td>\n",
       "      <td>bebas foto dimana aja cuma 2k</td>\n",
       "    </tr>\n",
       "  </tbody>\n",
       "</table>\n",
       "</div>"
      ],
      "text/plain": [
       "   Unnamed: 0.1  Unnamed: 0  \\\n",
       "0             0           0   \n",
       "1             1           1   \n",
       "2             2           2   \n",
       "3             3           3   \n",
       "4             4           4   \n",
       "\n",
       "                                             address  PlaceID  \\\n",
       "0  Jl. Sibola Hotang, Sibola Hotangsas, Kec. Bali...        0   \n",
       "1  Jl. Sibola Hotang, Sibola Hotangsas, Kec. Bali...        0   \n",
       "2  Jl. Sibola Hotang, Sibola Hotangsas, Kec. Bali...        0   \n",
       "3  Jl. Sibola Hotang, Sibola Hotangsas, Kec. Bali...        0   \n",
       "4  Jl. Sibola Hotang, Sibola Hotangsas, Kec. Bali...        0   \n",
       "\n",
       "          Nama_tempat_wisata       Category    ReviewerId  Rating  \\\n",
       "0  PASIR PUTIH LUMBAN BULBUL  Wisata Bahari  1.126030e+20     5.0   \n",
       "1  PASIR PUTIH LUMBAN BULBUL  Wisata Bahari  1.119090e+20     5.0   \n",
       "2  PASIR PUTIH LUMBAN BULBUL  Wisata Bahari  1.078860e+20     5.0   \n",
       "3  PASIR PUTIH LUMBAN BULBUL  Wisata Bahari  1.130720e+20     5.0   \n",
       "4  PASIR PUTIH LUMBAN BULBUL  Wisata Bahari  1.061730e+20     5.0   \n",
       "\n",
       "                         Reviews  \n",
       "0                            NaN  \n",
       "1                          bagus  \n",
       "2                            NaN  \n",
       "3             sangat menyenagkan  \n",
       "4  bebas foto dimana aja cuma 2k  "
      ]
     },
     "execution_count": 40,
     "metadata": {},
     "output_type": "execute_result"
    }
   ],
   "source": [
    "import pandas as pd\n",
    "\n",
    "# Load the dataset to inspect its structure\n",
    "file_path = 'C:/Users/WINDOWS 11/Downloads/Tempat-Wisata-Toba-Preprocessing.csv'\n",
    "data = pd.read_csv(file_path)\n",
    "\n",
    "# Display the first few rows of the dataset\n",
    "data.head()\n"
   ]
  },
  {
   "cell_type": "markdown",
   "id": "87ed6aec",
   "metadata": {},
   "source": [
    "## Data Cleaning"
   ]
  },
  {
   "cell_type": "code",
   "execution_count": 41,
   "id": "c73e2c6a",
   "metadata": {},
   "outputs": [
    {
     "name": "stdout",
     "output_type": "stream",
     "text": [
      "<class 'pandas.core.frame.DataFrame'>\n",
      "Int64Index: 43225 entries, 0 to 43225\n",
      "Data columns (total 3 columns):\n",
      " #   Column      Non-Null Count  Dtype  \n",
      "---  ------      --------------  -----  \n",
      " 0   ReviewerId  43225 non-null  int32  \n",
      " 1   PlaceID     43225 non-null  int32  \n",
      " 2   Rating      43225 non-null  float64\n",
      "dtypes: float64(1), int32(2)\n",
      "memory usage: 1013.1 KB\n"
     ]
    },
    {
     "name": "stderr",
     "output_type": "stream",
     "text": [
      "D:\\Anaconda\\Lib\\site-packages\\pandas\\core\\dtypes\\astype.py:189: RuntimeWarning: invalid value encountered in cast\n",
      "  return values.astype(dtype, copy=copy)\n"
     ]
    },
    {
     "data": {
      "text/plain": [
       "(None,\n",
       "    ReviewerId  PlaceID  Rating\n",
       " 0 -2147483648        0     5.0\n",
       " 1 -2147483648        0     5.0\n",
       " 2 -2147483648        0     5.0\n",
       " 3 -2147483648        0     5.0\n",
       " 4 -2147483648        0     5.0)"
      ]
     },
     "execution_count": 41,
     "metadata": {},
     "output_type": "execute_result"
    }
   ],
   "source": [
    "# Data cleaning: Keep only relevant columns and drop rows with missing values in ReviewerId, PlaceID, and Rating\n",
    "cleaned_data = data[['ReviewerId', 'PlaceID', 'Rating']].dropna()\n",
    "cleaned_data['ReviewerId'] = cleaned_data['ReviewerId'].astype(int)\n",
    "cleaned_data['PlaceID'] = cleaned_data['PlaceID'].astype(int)\n",
    "cleaned_data['Rating'] = cleaned_data['Rating'].astype(float)\n",
    "\n",
    "# Check the cleaned data\n",
    "cleaned_data.info(), cleaned_data.head()"
   ]
  },
  {
   "cell_type": "markdown",
   "id": "f78ec5a2",
   "metadata": {},
   "source": [
    "## Check Unique ReviewerId"
   ]
  },
  {
   "cell_type": "code",
   "execution_count": 42,
   "id": "a4bde710",
   "metadata": {},
   "outputs": [
    {
     "data": {
      "text/plain": [
       "(array([-2147483648]), 1)"
      ]
     },
     "execution_count": 42,
     "metadata": {},
     "output_type": "execute_result"
    }
   ],
   "source": [
    "# Investigate unique ReviewerId values for issues\n",
    "unique_reviewer_ids = cleaned_data['ReviewerId'].unique()\n",
    "\n",
    "# Check if there are invalid or problematic IDs\n",
    "unique_reviewer_ids[:10], len(unique_reviewer_ids)\n"
   ]
  },
  {
   "cell_type": "code",
   "execution_count": 43,
   "id": "d926f84a",
   "metadata": {},
   "outputs": [
    {
     "data": {
      "text/plain": [
       "(array([1.12603e+20, 1.11909e+20, 1.07886e+20, ..., 1.03145e+20,\n",
       "        1.10937e+20, 1.13074e+20]),\n",
       " 0    1.126030e+20\n",
       " 1    1.119090e+20\n",
       " 2    1.078860e+20\n",
       " 3    1.130720e+20\n",
       " 4    1.061730e+20\n",
       " 5    1.115720e+20\n",
       " 6    1.142390e+20\n",
       " 7    1.103400e+20\n",
       " 8    1.047430e+20\n",
       " 9    1.125610e+20\n",
       " Name: ReviewerId, dtype: float64)"
      ]
     },
     "execution_count": 43,
     "metadata": {},
     "output_type": "execute_result"
    }
   ],
   "source": [
    "# Check the raw data for ReviewerId column to understand the issue\n",
    "data['ReviewerId'].unique(), data['ReviewerId'].head(10)\n"
   ]
  },
  {
   "cell_type": "code",
   "execution_count": 44,
   "id": "89b1c768",
   "metadata": {},
   "outputs": [
    {
     "name": "stdout",
     "output_type": "stream",
     "text": [
      "<class 'pandas.core.frame.DataFrame'>\n",
      "Int64Index: 43225 entries, 0 to 43225\n",
      "Data columns (total 3 columns):\n",
      " #   Column      Non-Null Count  Dtype  \n",
      "---  ------      --------------  -----  \n",
      " 0   ReviewerId  43225 non-null  object \n",
      " 1   PlaceID     43225 non-null  int32  \n",
      " 2   Rating      43225 non-null  float64\n",
      "dtypes: float64(1), int32(1), object(1)\n",
      "memory usage: 1.2+ MB\n"
     ]
    },
    {
     "data": {
      "text/plain": [
       "(None,\n",
       "     ReviewerId  PlaceID  Rating\n",
       " 0  1.12603e+20        0     5.0\n",
       " 1  1.11909e+20        0     5.0\n",
       " 2  1.07886e+20        0     5.0\n",
       " 3  1.13072e+20        0     5.0\n",
       " 4  1.06173e+20        0     5.0)"
      ]
     },
     "execution_count": 44,
     "metadata": {},
     "output_type": "execute_result"
    }
   ],
   "source": [
    "# Convert ReviewerId to string to handle large unique IDs properly\n",
    "cleaned_data['ReviewerId'] = data['ReviewerId'].astype(str)\n",
    "cleaned_data['PlaceID'] = cleaned_data['PlaceID'].astype(int)\n",
    "cleaned_data['Rating'] = cleaned_data['Rating'].astype(float)\n",
    "\n",
    "# Re-check the cleaned data\n",
    "cleaned_data.info(), cleaned_data.head()\n"
   ]
  },
  {
   "cell_type": "markdown",
   "id": "7e8800d2",
   "metadata": {},
   "source": [
    "## Data Split  train:validation:test 70%:15%:15%"
   ]
  },
  {
   "cell_type": "code",
   "execution_count": 45,
   "id": "f53a0e90",
   "metadata": {},
   "outputs": [
    {
     "name": "stdout",
     "output_type": "stream",
     "text": [
      "70% (Train): 30257 dari 43225 data\n",
      "15% (Validation): 6484 dari 43225 data\n",
      "15% (Test): 6484 dari 43225 data\n"
     ]
    }
   ],
   "source": [
    "from sklearn.model_selection import train_test_split\n",
    "\n",
    "# Split the data into train (70%), validation (15%), and test (15%)\n",
    "train_data, temp_data = train_test_split(cleaned_data, test_size=0.3, random_state=42)\n",
    "validation_data, test_data = train_test_split(temp_data, test_size=0.5, random_state=42)\n",
    "\n",
    "# Hitung ukuran masing-masing dataset\n",
    "total_data = len(cleaned_data)\n",
    "train_size = len(train_data)\n",
    "validation_size = len(validation_data)\n",
    "test_size = len(test_data)\n",
    "\n",
    "# Cetak hasil dengan persentase\n",
    "print(f\"70% (Train): {train_size} dari {total_data} data\")\n",
    "print(f\"15% (Validation): {validation_size} dari {total_data} data\")\n",
    "print(f\"15% (Test): {test_size} dari {total_data} data\")\n"
   ]
  },
  {
   "cell_type": "markdown",
   "id": "2f05505b",
   "metadata": {},
   "source": [
    "Kode di atas membagi dataset **`cleaned_data`** menjadi tiga bagian: **70% untuk data pelatihan (train_data)**, **15% untuk data validasi (validation_data)**, dan **15% untuk data uji (test_data)**. Pembagian dilakukan menggunakan fungsi **`train_test_split`** dari scikit-learn, di mana pertama-tama data dibagi menjadi 70% untuk pelatihan dan 30% sisanya untuk pembagian lebih lanjut. Kemudian, data sisa 30% dibagi lagi menjadi 50% untuk validasi dan 50% untuk pengujian. Setelah itu, ukuran masing-masing subset dihitung dan ditampilkan dalam jumlah data serta persentase terhadap total data, memberikan gambaran tentang distribusi dataset."
   ]
  },
  {
   "cell_type": "markdown",
   "id": "5e076f79",
   "metadata": {},
   "source": [
    "## Menampilkan Top 5 tempat wisata"
   ]
  },
  {
   "cell_type": "code",
   "execution_count": 46,
   "id": "8e05371e",
   "metadata": {},
   "outputs": [
    {
     "name": "stdout",
     "output_type": "stream",
     "text": [
      "              Nama_tempat_wisata  Rating\n",
      "0      PASIR PUTIH LUMBAN BULBUL     5.0\n",
      "26436               Pantai Paris     5.0\n",
      "26428               Pantai Paris     5.0\n",
      "26429               Pantai Paris     5.0\n",
      "26431               Pantai Paris     5.0\n"
     ]
    }
   ],
   "source": [
    "import pandas as pd\n",
    "\n",
    "# Memuat dataset\n",
    "df = pd.read_csv('C:/Users/WINDOWS 11/Downloads/Tempat-Wisata-Toba-Preprocessing.csv')\n",
    "\n",
    "# Mengurutkan berdasarkan Rating secara menurun dan memilih 5 tempat teratas\n",
    "top_5_tempat_wisata = df.sort_values(by='Rating', ascending=False).head(5)\n",
    "\n",
    "# Menampilkan hasil\n",
    "print(top_5_tempat_wisata[['Nama_tempat_wisata', 'Rating']])\n"
   ]
  },
  {
   "cell_type": "markdown",
   "id": "9e524cb4",
   "metadata": {},
   "source": [
    "## Menampilkan Top 10 tempat wisata"
   ]
  },
  {
   "cell_type": "code",
   "execution_count": 47,
   "id": "67fec719",
   "metadata": {},
   "outputs": [
    {
     "name": "stdout",
     "output_type": "stream",
     "text": [
      "\n",
      "Top 10 Tempat Wisata Berdasarkan Rating:\n",
      "              Nama_tempat_wisata  Rating\n",
      "0      PASIR PUTIH LUMBAN BULBUL     5.0\n",
      "26436               Pantai Paris     5.0\n",
      "26428               Pantai Paris     5.0\n",
      "26429               Pantai Paris     5.0\n",
      "26431               Pantai Paris     5.0\n",
      "26432               Pantai Paris     5.0\n",
      "26433               Pantai Paris     5.0\n",
      "26435               Pantai Paris     5.0\n",
      "26438               Pantai Paris     5.0\n",
      "26447               Pantai Paris     5.0\n"
     ]
    }
   ],
   "source": [
    "import pandas as pd\n",
    "\n",
    "# Memuat dataset\n",
    "df = pd.read_csv('C:/Users/WINDOWS 11/Downloads/Tempat-Wisata-Toba-Preprocessing.csv')\n",
    "\n",
    "# Mengurutkan berdasarkan Rating secara menurun\n",
    "df_sorted = df.sort_values(by='Rating', ascending=False)\n",
    "\n",
    "# Memilih 10 tempat teratas\n",
    "top_10_tempat_wisata = df_sorted.head(10)\n",
    "print(\"\\nTop 10 Tempat Wisata Berdasarkan Rating:\")\n",
    "print(top_10_tempat_wisata[['Nama_tempat_wisata', 'Rating']])\n"
   ]
  },
  {
   "cell_type": "markdown",
   "id": "816e29df",
   "metadata": {},
   "source": [
    "## Pre-processing"
   ]
  },
  {
   "cell_type": "code",
   "execution_count": 48,
   "id": "bedb9c4f",
   "metadata": {},
   "outputs": [],
   "source": [
    "from sklearn.model_selection import train_test_split\n",
    "from sklearn.decomposition import NMF\n",
    "from sklearn.metrics import mean_squared_error, mean_absolute_error, precision_score, recall_score\n",
    "import numpy as np\n",
    "import matplotlib.pyplot as plt\n",
    "\n",
    "# Preprocessing: select relevant columns\n",
    "ratings = data[['ReviewerId', 'PlaceID', 'Rating']].dropna()\n",
    "\n",
    "# Map user and place IDs to indices for NMF\n",
    "user_mapping = {user_id: idx for idx, user_id in enumerate(ratings['ReviewerId'].unique())}\n",
    "place_mapping = {place_id: idx for idx, place_id in enumerate(ratings['PlaceID'].unique())}\n",
    "\n",
    "ratings['user_index'] = ratings['ReviewerId'].map(user_mapping)\n",
    "ratings['place_index'] = ratings['PlaceID'].map(place_mapping)\n",
    "\n",
    "# Create user-place interaction matrix\n",
    "num_users = len(user_mapping)\n",
    "num_places = len(place_mapping)\n",
    "interaction_matrix = np.zeros((num_users, num_places))\n",
    "\n",
    "for _, row in ratings.iterrows():\n",
    "    interaction_matrix[int(row['user_index']), int(row['place_index'])] = row['Rating']\n",
    "\n",
    "# Train-test split\n",
    "train_data, test_data = train_test_split(ratings, test_size=0.2, random_state=42)"
   ]
  },
  {
   "cell_type": "markdown",
   "id": "9dafb47f",
   "metadata": {},
   "source": [
    "Kode ini mempersiapkan data untuk model rekomendasi berbasis dekomposisi matriks menggunakan NMF (Non-Negative Matrix Factorization). Data rating yang relevan dipilih dari kolom `ReviewerId`, `PlaceID`, dan `Rating`, lalu ID pengguna dan tempat dipetakan ke indeks numerik. Matriks interaksi pengguna-tempat dibuat berdasarkan rating yang diberikan, dengan setiap elemen merepresentasikan rating tertentu. Selanjutnya, data dibagi menjadi dua bagian (train dan test) menggunakan fungsi `train_test_split` dengan porsi 80% untuk pelatihan dan 20% untuk pengujian."
   ]
  },
  {
   "cell_type": "markdown",
   "id": "5ff0a48d",
   "metadata": {},
   "source": [
    "## Modelling (K = 10)"
   ]
  },
  {
   "cell_type": "code",
   "execution_count": 49,
   "id": "e59abac3",
   "metadata": {},
   "outputs": [
    {
     "data": {
      "text/plain": [
       "(      Metric     Value\n",
       " 0       RMSE  1.042812\n",
       " 1        MAE  0.328685\n",
       " 2  Precision  0.995849\n",
       " 3     Recall  0.728641\n",
       " 4        MAP  1.000000,\n",
       "       user_index    ReviewerId     Recommended_Places\n",
       " 0            457  1.064330e+20   [11, 68, 61, 59, 26]\n",
       " 1           1207  1.040720e+20   [27, 68, 91, 10, 38]\n",
       " 2           8923  1.042620e+20   [61, 91, 59, 85, 12]\n",
       " 3           8946  1.090280e+20  [101, 37, 27, 28, 29]\n",
       " 4           7535  1.120500e+20  [100, 91, 51, 38, 54]\n",
       " ...          ...           ...                    ...\n",
       " 6394        8194  1.030410e+20    [52, 82, 3, 44, 57]\n",
       " 6395       10477  1.009530e+20    [66, 69, 26, 48, 9]\n",
       " 6396       10273  1.031300e+20    [66, 69, 26, 48, 9]\n",
       " 6397        7656  1.079360e+20   [99, 51, 95, 54, 26]\n",
       " 6398        3755  1.002430e+20   [55, 99, 91, 95, 26]\n",
       " \n",
       " [6399 rows x 3 columns])"
      ]
     },
     "execution_count": 49,
     "metadata": {},
     "output_type": "execute_result"
    }
   ],
   "source": [
    "from sklearn.preprocessing import MinMaxScaler\n",
    "from sklearn.decomposition import NMF\n",
    "from sklearn.metrics import mean_squared_error, mean_absolute_error, precision_score, recall_score\n",
    "import pandas as pd\n",
    "import numpy as np\n",
    "\n",
    "# Normalisasi data\n",
    "scaler = MinMaxScaler()\n",
    "ratings['Normalized_Rating'] = scaler.fit_transform(ratings[['Rating']])\n",
    "\n",
    "# Update matriks interaksi dengan rating yang dinormalisasi\n",
    "interaction_matrix = np.zeros((num_users, num_places))\n",
    "for _, row in ratings.iterrows():\n",
    "    interaction_matrix[int(row['user_index']), int(row['place_index'])] = row['Normalized_Rating']\n",
    "\n",
    "# Train-test split (gunakan data rating yang dinormalisasi)\n",
    "train_data, test_data = train_test_split(ratings, test_size=0.2, random_state=42)\n",
    "\n",
    "# NMF Model dengan k = 10\n",
    "nmf_model = NMF(\n",
    "    n_components=50,\n",
    "    random_state=42,\n",
    "    max_iter=500,\n",
    "    l1_ratio=0.5\n",
    ")\n",
    "\n",
    "# Fit NMF model to get W and H\n",
    "W = nmf_model.fit_transform(interaction_matrix)\n",
    "H = nmf_model.components_\n",
    "\n",
    "# Predict ratings\n",
    "predicted_matrix = np.dot(W, H)\n",
    "predicted_ratings = []\n",
    "\n",
    "for _, row in test_data.iterrows():\n",
    "    user_idx = int(row['user_index'])\n",
    "    place_idx = int(row['place_index'])\n",
    "    predicted_ratings.append(predicted_matrix[user_idx, place_idx])\n",
    "\n",
    "# Denormalisasi prediksi untuk mendapatkan nilai asli\n",
    "predicted_ratings = scaler.inverse_transform(np.array(predicted_ratings).reshape(-1, 1)).flatten()\n",
    "\n",
    "# Metrics\n",
    "true_ratings = test_data['Rating'].values\n",
    "rmse = np.sqrt(mean_squared_error(true_ratings, predicted_ratings))\n",
    "mae = mean_absolute_error(true_ratings, predicted_ratings)\n",
    "\n",
    "# Binary relevance metrics\n",
    "threshold = 4  # Assuming ratings >= 4 are relevant\n",
    "true_binary = (true_ratings >= threshold).astype(int)\n",
    "predicted_binary = (np.array(predicted_ratings) >= threshold).astype(int)\n",
    "\n",
    "precision = precision_score(true_binary, predicted_binary)\n",
    "recall = recall_score(true_binary, predicted_binary)\n",
    "\n",
    "# MAP Calculation\n",
    "def mean_average_precision(true_binary, predicted_binary_scores, k=10):\n",
    "    sorted_indices = np.argsort(-predicted_binary_scores)[:k]\n",
    "    relevant = true_binary[sorted_indices]\n",
    "    precision_at_k = np.cumsum(relevant) / (np.arange(1, k + 1))\n",
    "    return np.sum(precision_at_k * relevant) / np.sum(relevant) if np.sum(relevant) > 0 else 0\n",
    "\n",
    "map_score = mean_average_precision(\n",
    "    true_binary=true_binary,\n",
    "    predicted_binary_scores=predicted_ratings,\n",
    "    k=10\n",
    ")\n",
    "\n",
    "# Summary of metrics\n",
    "metrics = pd.DataFrame({\n",
    "    \"Metric\": [\"RMSE\", \"MAE\", \"Precision\", \"Recall\", \"MAP\"],\n",
    "    \"Value\": [rmse, mae, precision, recall, map_score]\n",
    "})\n",
    "\n",
    "# Recommendations\n",
    "recommendations = []\n",
    "for user_idx in test_data['user_index'].unique():\n",
    "    user_ratings = predicted_matrix[user_idx]\n",
    "    top_place_indices = user_ratings.argsort()[::-1][:5]\n",
    "    recommended_places = [list(place_mapping.keys())[list(place_mapping.values()).index(idx)] for idx in top_place_indices]\n",
    "    \n",
    "    recommendations.append({\n",
    "        \"user_index\": user_idx,\n",
    "        \"ReviewerId\": list(user_mapping.keys())[list(user_mapping.values()).index(user_idx)],\n",
    "        \"Recommended_Places\": recommended_places\n",
    "    })\n",
    "\n",
    "recommendations_df = pd.DataFrame(recommendations)\n",
    "\n",
    "# Display the results\n",
    "metrics, recommendations_df\n"
   ]
  },
  {
   "cell_type": "markdown",
   "id": "12dd9e3a",
   "metadata": {},
   "source": [
    "Kode ini melatih model NMF (Non-Negative Matrix Factorization) dengan 10 komponen laten untuk mendekomposisi matriks interaksi pengguna-tempat. Matriks hasil dekomposisi digunakan untuk memprediksi rating pada data uji, yang kemudian dibandingkan dengan rating sebenarnya menggunakan metrik evaluasi seperti RMSE dan MAE. Selain itu, presisi dan recall dihitung berdasarkan relevansi biner (rating >= 4 dianggap relevan), memberikan gambaran performa model dalam merekomendasikan tempat dengan rating tinggi. Hasil evaluasi dirangkum dalam tabel metrik."
   ]
  },
  {
   "cell_type": "markdown",
   "id": "30d6b0b8",
   "metadata": {},
   "source": [
    "## Display Recommendations"
   ]
  },
  {
   "cell_type": "code",
   "execution_count": 50,
   "id": "0eec8877",
   "metadata": {},
   "outputs": [
    {
     "data": {
      "text/html": [
       "<div>\n",
       "<style scoped>\n",
       "    .dataframe tbody tr th:only-of-type {\n",
       "        vertical-align: middle;\n",
       "    }\n",
       "\n",
       "    .dataframe tbody tr th {\n",
       "        vertical-align: top;\n",
       "    }\n",
       "\n",
       "    .dataframe thead th {\n",
       "        text-align: right;\n",
       "    }\n",
       "</style>\n",
       "<table border=\"1\" class=\"dataframe\">\n",
       "  <thead>\n",
       "    <tr style=\"text-align: right;\">\n",
       "      <th></th>\n",
       "      <th>user_index</th>\n",
       "      <th>ReviewerId</th>\n",
       "      <th>Recommended_Places</th>\n",
       "    </tr>\n",
       "  </thead>\n",
       "  <tbody>\n",
       "    <tr>\n",
       "      <th>0</th>\n",
       "      <td>457</td>\n",
       "      <td>1.064330e+20</td>\n",
       "      <td>[11, 68, 61, 59, 26]</td>\n",
       "    </tr>\n",
       "    <tr>\n",
       "      <th>1</th>\n",
       "      <td>1207</td>\n",
       "      <td>1.040720e+20</td>\n",
       "      <td>[27, 68, 91, 10, 38]</td>\n",
       "    </tr>\n",
       "    <tr>\n",
       "      <th>2</th>\n",
       "      <td>8923</td>\n",
       "      <td>1.042620e+20</td>\n",
       "      <td>[61, 91, 59, 85, 12]</td>\n",
       "    </tr>\n",
       "    <tr>\n",
       "      <th>3</th>\n",
       "      <td>8946</td>\n",
       "      <td>1.090280e+20</td>\n",
       "      <td>[101, 37, 27, 28, 29]</td>\n",
       "    </tr>\n",
       "    <tr>\n",
       "      <th>4</th>\n",
       "      <td>7535</td>\n",
       "      <td>1.120500e+20</td>\n",
       "      <td>[100, 91, 51, 38, 54]</td>\n",
       "    </tr>\n",
       "    <tr>\n",
       "      <th>...</th>\n",
       "      <td>...</td>\n",
       "      <td>...</td>\n",
       "      <td>...</td>\n",
       "    </tr>\n",
       "    <tr>\n",
       "      <th>6394</th>\n",
       "      <td>8194</td>\n",
       "      <td>1.030410e+20</td>\n",
       "      <td>[52, 82, 3, 44, 57]</td>\n",
       "    </tr>\n",
       "    <tr>\n",
       "      <th>6395</th>\n",
       "      <td>10477</td>\n",
       "      <td>1.009530e+20</td>\n",
       "      <td>[66, 69, 26, 48, 9]</td>\n",
       "    </tr>\n",
       "    <tr>\n",
       "      <th>6396</th>\n",
       "      <td>10273</td>\n",
       "      <td>1.031300e+20</td>\n",
       "      <td>[66, 69, 26, 48, 9]</td>\n",
       "    </tr>\n",
       "    <tr>\n",
       "      <th>6397</th>\n",
       "      <td>7656</td>\n",
       "      <td>1.079360e+20</td>\n",
       "      <td>[99, 51, 95, 54, 26]</td>\n",
       "    </tr>\n",
       "    <tr>\n",
       "      <th>6398</th>\n",
       "      <td>3755</td>\n",
       "      <td>1.002430e+20</td>\n",
       "      <td>[55, 99, 91, 95, 26]</td>\n",
       "    </tr>\n",
       "  </tbody>\n",
       "</table>\n",
       "<p>6399 rows × 3 columns</p>\n",
       "</div>"
      ],
      "text/plain": [
       "      user_index    ReviewerId     Recommended_Places\n",
       "0            457  1.064330e+20   [11, 68, 61, 59, 26]\n",
       "1           1207  1.040720e+20   [27, 68, 91, 10, 38]\n",
       "2           8923  1.042620e+20   [61, 91, 59, 85, 12]\n",
       "3           8946  1.090280e+20  [101, 37, 27, 28, 29]\n",
       "4           7535  1.120500e+20  [100, 91, 51, 38, 54]\n",
       "...          ...           ...                    ...\n",
       "6394        8194  1.030410e+20    [52, 82, 3, 44, 57]\n",
       "6395       10477  1.009530e+20    [66, 69, 26, 48, 9]\n",
       "6396       10273  1.031300e+20    [66, 69, 26, 48, 9]\n",
       "6397        7656  1.079360e+20   [99, 51, 95, 54, 26]\n",
       "6398        3755  1.002430e+20   [55, 99, 91, 95, 26]\n",
       "\n",
       "[6399 rows x 3 columns]"
      ]
     },
     "execution_count": 50,
     "metadata": {},
     "output_type": "execute_result"
    }
   ],
   "source": [
    "# Generate recommendations for each user in the test data\n",
    "recommendations = []\n",
    "\n",
    "for user_idx in test_data['user_index'].unique():\n",
    "    # Get the predicted ratings for this user\n",
    "    user_ratings = predicted_matrix[user_idx]\n",
    "    \n",
    "    # Get indices of places sorted by predicted ratings (highest to lowest)\n",
    "    top_place_indices = user_ratings.argsort()[::-1][:5]  # Top 5 recommendations\n",
    "    \n",
    "    # Map indices back to PlaceID\n",
    "    recommended_places = [list(place_mapping.keys())[list(place_mapping.values()).index(idx)] for idx in top_place_indices]\n",
    "    \n",
    "    recommendations.append({\n",
    "        \"user_index\": user_idx,\n",
    "        \"ReviewerId\": list(user_mapping.keys())[list(user_mapping.values()).index(user_idx)],\n",
    "        \"Recommended_Places\": recommended_places\n",
    "    })\n",
    "\n",
    "# Convert recommendations to a DataFrame for easier visualization\n",
    "recommendations_df = pd.DataFrame(recommendations)\n",
    "\n",
    "# Display the recommendations\n",
    "recommendations_df\n"
   ]
  },
  {
   "cell_type": "markdown",
   "id": "0884d954",
   "metadata": {},
   "source": [
    "Code di atas bertujuan untuk memberikan rekomendasi tempat wisata kepada pengguna berdasarkan model NMF (Non-Negative Matrix Factorization) yang sudah dilatih. \n",
    "\n",
    "1. **Menentukan Prediksi Rating untuk Pengguna**: \n",
    "   Untuk setiap pengguna dalam data uji, kode ini mengakses matriks prediksi yang dihasilkan oleh model NMF (dengan hasil perkalian matriks `W` dan `H`). Matriks ini berisi perkiraan rating untuk setiap tempat wisata yang diberikan oleh pengguna.\n",
    "\n",
    "2. **Mengurutkan dan Memilih Tempat Terbaik**: \n",
    "   Setelah memperoleh rating yang diprediksi untuk setiap tempat wisata oleh pengguna, kode ini mengurutkan tempat-tempat berdasarkan rating yang diprediksi dari yang tertinggi ke terendah. Kemudian, 5 tempat teratas dipilih sebagai rekomendasi untuk pengguna tersebut.\n",
    "\n",
    "3. **Pemetaan ID**: \n",
    "   Karena model menggunakan indeks numerik untuk pengguna dan tempat, kode ini kemudian memetakan indeks yang dipilih kembali ke `PlaceID` asli dan `ReviewerId` untuk memudahkan interpretasi hasil.\n",
    "\n",
    "4. **Menyusun DataFrame Rekomendasi**: \n",
    "   Hasil dari setiap rekomendasi dikumpulkan dalam bentuk dictionary yang berisi `ReviewerId` dan daftar `Recommended_Places` yang mencakup 5 tempat wisata teratas. Semua hasil ini kemudian dimasukkan ke dalam sebuah DataFrame untuk visualisasi yang lebih mudah dan terstruktur.\n",
    "\n",
    "### Hasil yang Diharapkan\n",
    "Hasil akhirnya adalah sebuah DataFrame yang menunjukkan kepada setiap pengguna (`ReviewerId`) tempat wisata yang paling direkomendasikan berdasarkan rating yang diprediksi. Setiap pengguna akan memiliki daftar 5 tempat wisata dengan rating tertinggi yang diharapkan akan mereka sukai, berdasarkan preferensi mereka yang sudah tercatat di data latih dan model NMF yang telah dibangun. Hasil ini memberikan panduan personalisasi untuk pengguna dalam memilih tempat wisata yang sesuai dengan minat mereka."
   ]
  },
  {
   "cell_type": "markdown",
   "id": "698dac56",
   "metadata": {},
   "source": [
    "## VISUALIZATION"
   ]
  },
  {
   "cell_type": "markdown",
   "id": "19c5c38d",
   "metadata": {},
   "source": [
    "### Grafik Rating Metrics (RMSE, MAE)"
   ]
  },
  {
   "cell_type": "code",
   "execution_count": 61,
   "id": "b22216b0",
   "metadata": {},
   "outputs": [
    {
     "data": {
      "image/png": "[encoded data removed]",
      "text/plain": [
       "<Figure size 800x500 with 1 Axes>"
      ]
     },
     "metadata": {},
     "output_type": "display_data"
    }
   ],
   "source": [
    "import matplotlib.pyplot as plt\n",
    "\n",
    "# nilai RMSE dan MAE\n",
    "rmse_value = 1.042812 \n",
    "mae_value = 0.328685   \n",
    "\n",
    "# Rating Metrics\n",
    "rating_metrics = {\n",
    "    \"Metric\": [\"RMSE\", \"MAE\"],\n",
    "    \"Value\": [rmse_value, mae_value]  \n",
    "}\n",
    "\n",
    "plt.figure(figsize=(8, 5))\n",
    "plt.bar(rating_metrics[\"Metric\"], rating_metrics[\"Value\"], color=['blue', 'orange'])\n",
    "plt.title(\"Rating Metrics\")\n",
    "plt.ylabel(\"Value\")\n",
    "plt.xlabel(\"Metrics\")\n",
    "plt.ylim(0, 2)  # Sesuaikan dengan rentang nilai RMSE dan MAE\n",
    "plt.grid(axis='y', linestyle='--', alpha=0.7)\n",
    "plt.show()\n"
   ]
  },
  {
   "cell_type": "markdown",
   "id": "61ca09d0",
   "metadata": {},
   "source": [
    "### Menggunakan pattern"
   ]
  },
  {
   "cell_type": "code",
   "execution_count": 63,
   "id": "658d3db3",
   "metadata": {},
   "outputs": [
    {
     "data": {
      "image/png": "[encoded data removed]",
      "text/plain": [
       "<Figure size 800x500 with 1 Axes>"
      ]
     },
     "metadata": {},
     "output_type": "display_data"
    }
   ],
   "source": [
    "import matplotlib.pyplot as plt\n",
    "\n",
    "# nilai RMSE dan MAE\n",
    "rmse_value = 1.042812 \n",
    "mae_value = 0.328685   \n",
    "\n",
    "# Rating Metrics\n",
    "rating_metrics = {\n",
    "    \"Metric\": [\"RMSE\", \"MAE\"],\n",
    "    \"Value\": [rmse_value, mae_value]  \n",
    "}\n",
    "\n",
    "plt.figure(figsize=(8, 5))\n",
    "\n",
    "# Adding hatch patterns to the bars\n",
    "plt.bar(rating_metrics[\"Metric\"], rating_metrics[\"Value\"], color=['blue', 'orange'], hatch=['/', '\\\\'])\n",
    "\n",
    "plt.title(\"Rating Metrics\")\n",
    "plt.ylabel(\"Value\")\n",
    "plt.xlabel(\"Metrics\")\n",
    "plt.ylim(0, 2)  # Sesuaikan dengan rentang nilai RMSE dan MAE\n",
    "plt.grid(axis='y', linestyle='--', alpha=0.7)\n",
    "plt.show()\n"
   ]
  },
  {
   "cell_type": "markdown",
   "id": "25a5fa79",
   "metadata": {},
   "source": [
    "Kode di atas menghasilkan grafik batang untuk metrik **RMSE** dan **MAE**. Pertama, nilai **RMSE** dan **MAE** didefinisikan dalam variabel `rmse_value` dan `mae_value`. Kemudian, data tersebut dimasukkan ke dalam dictionary **`rating_metrics`** dengan kunci \"Metric\" untuk nama metrik dan \"Value\" untuk nilai metrik. Fungsi **`plt.bar()`** digunakan untuk membuat grafik batang dengan warna biru untuk RMSE dan oranye untuk MAE. Grafik ini diberi judul \"Rating Metrics\" dengan label sumbu y dan x yang sesuai, serta rentang sumbu y disesuaikan antara 0 dan 5 untuk menampilkan nilai yang lebih jelas. Setelah itu, grid diaktifkan pada sumbu y untuk membantu pembacaan nilai."
   ]
  },
  {
   "cell_type": "markdown",
   "id": "f5580668",
   "metadata": {},
   "source": [
    "### Grafik Ranking Metrics (Precision, Recall, MAP)"
   ]
  },
  {
   "cell_type": "code",
   "execution_count": 53,
   "id": "8b19ee42",
   "metadata": {},
   "outputs": [
    {
     "data": {
      "image/png": "[encoded data removed]",
      "text/plain": [
       "<Figure size 800x500 with 1 Axes>"
      ]
     },
     "metadata": {},
     "output_type": "display_data"
    }
   ],
   "source": [
    "import matplotlib.pyplot as plt\n",
    "\n",
    "# nilai Precision, Recall, dan MAP\n",
    "precision_value = 0.994989  \n",
    "recall_value = 0.288393     \n",
    "map_value = 1.000000        \n",
    "\n",
    "# Ranking Metrics\n",
    "ranking_metrics = {\n",
    "    \"Metric\": [\"Precision\", \"Recall\", \"MAP\"],\n",
    "    \"Value\": [precision_value, recall_value, map_value] \n",
    "}\n",
    "\n",
    "plt.figure(figsize=(8, 5))\n",
    "plt.bar(ranking_metrics[\"Metric\"], ranking_metrics[\"Value\"], color=['green', 'red', 'purple'])\n",
    "plt.title(\"Ranking Metrics\")\n",
    "plt.ylabel(\"Value\")\n",
    "plt.xlabel(\"Metrics\")\n",
    "plt.ylim(0, 1.5)  \n",
    "plt.grid(axis='y', linestyle='--', alpha=0.7)\n",
    "plt.show()\n"
   ]
  },
  {
   "cell_type": "markdown",
   "id": "fb1284fc",
   "metadata": {},
   "source": [
    "### Menggunakan Pattern"
   ]
  },
  {
   "cell_type": "code",
   "execution_count": 54,
   "id": "84d3b910",
   "metadata": {},
   "outputs": [
    {
     "data": {
      "image/png": "[encoded data removed]",
      "text/plain": [
       "<Figure size 800x500 with 1 Axes>"
      ]
     },
     "metadata": {},
     "output_type": "display_data"
    }
   ],
   "source": [
    "import matplotlib.pyplot as plt\n",
    "\n",
    "# nilai Precision, Recall, dan MAP\n",
    "precision_value = 0.994989  \n",
    "recall_value = 0.288393     \n",
    "map_value = 1.000000        \n",
    "\n",
    "# Ranking Metrics\n",
    "ranking_metrics = {\n",
    "    \"Metric\": [\"Precision\", \"Recall\", \"MAP\"],\n",
    "    \"Value\": [precision_value, recall_value, map_value] \n",
    "}\n",
    "\n",
    "plt.figure(figsize=(8, 5))\n",
    "\n",
    "# Adding hatch patterns to the bars\n",
    "plt.bar(ranking_metrics[\"Metric\"], ranking_metrics[\"Value\"], \n",
    "        color=['green', 'red', 'purple'], \n",
    "        hatch=['/', 'x', '\\\\'])\n",
    "\n",
    "plt.title(\"Ranking Metrics\")\n",
    "plt.ylabel(\"Value\")\n",
    "plt.xlabel(\"Metrics\")\n",
    "plt.ylim(0, 1.5)  \n",
    "plt.grid(axis='y', linestyle='--', alpha=0.7)\n",
    "plt.show()\n"
   ]
  },
  {
   "cell_type": "markdown",
   "id": "3a3bfa4c",
   "metadata": {},
   "source": [
    "Kode di atas menghasilkan grafik batang untuk metrik **Precision**, **Recall**, dan **MAP**. Nilai-nilai dari masing-masing metrik (precision = 0.994989, recall = 0.288393, map = 1.000000) dimasukkan ke dalam dictionary **`ranking_metrics`**. Grafik batang dibuat menggunakan **`plt.bar()`**, dengan warna hijau untuk Precision, merah untuk Recall, dan ungu untuk MAP. Grafik ini diberi judul \"Ranking Metrics\" dan label pada sumbu y dan x yang sesuai, dengan rentang sumbu y disesuaikan antara 0 dan 1.5 agar bisa menampilkan seluruh nilai metrik dengan lebih jelas. Grid juga diaktifkan di sumbu y untuk memudahkan pembacaan nilai."
   ]
  },
  {
   "cell_type": "markdown",
   "id": "9143a5d9",
   "metadata": {},
   "source": [
    "## Analisis"
   ]
  },
  {
   "cell_type": "markdown",
   "id": "6aad4268",
   "metadata": {},
   "source": [
    "Kesimpulan yang melibatkan dua set metrik evaluasi (**Rating Metrics** dan **Ranking Metrics**), dapat dihubungkan dengan model yang menggunakan **k-fold cross-validation** dengan **k = 10**. Berdasarkan nilai-nilai yang dihasilkan:\n",
    "\n",
    "1. **Rating Metrics**:\n",
    "   - **RMSE** (Root Mean Square Error) sebesar 2.600590 menunjukkan bahwa model memiliki kesalahan yang cukup besar dalam prediksi. RMSE yang lebih rendah biasanya diinginkan, namun angka ini menunjukkan adanya variasi yang signifikan antara prediksi dan nilai aktual.\n",
    "   - **MAE** (Mean Absolute Error) sebesar 2.069939 menunjukkan bahwa rata-rata kesalahan absolut model adalah sekitar 2.07, yang memberikan gambaran lebih langsung tentang seberapa besar kesalahan prediksi.\n",
    "\n",
    "2. **Ranking Metrics**:\n",
    "   - **Precision** sebesar 0.994989 sangat tinggi, yang berarti model sangat akurat dalam memprediksi kelas positif dengan sedikit kesalahan (false positives).\n",
    "   - **Recall** sebesar 0.288393 menunjukkan bahwa model kurang efektif dalam menangkap semua kasus positif yang seharusnya diprediksi, yang bisa menjadi masalah, terutama jika tujuan model adalah untuk mengidentifikasi semua prediksi relevan.\n",
    "   - **MAP** (Mean Average Precision) sebesar 1.0 menunjukkan model memberikan hasil ranking yang sangat baik, dengan peringkat relevansi yang maksimal.\n",
    "\n",
    "Secara keseluruhan, meskipun model memiliki **Precision** yang sangat tinggi, **Recall** yang rendah menunjukkan adanya kelemahan dalam mengenali seluruh sampel positif. Jika model ini diujikan menggunakan **k = 10** pada cross-validation, hal ini menunjukkan bahwa performa model mungkin bervariasi antara fold-fold yang berbeda, dengan kesalahan yang terukur baik melalui RMSE maupun MAE, tetapi dengan potensi akurasi yang sangat baik dalam hal ranking dan prediksi positif."
   ]
  }
 ],
 "metadata": {
  "kernelspec": {
   "display_name": "Python 3 (ipykernel)",
   "language": "python",
   "name": "python3"
  },
  "language_info": {
   "codemirror_mode": {
    "name": "ipython",
    "version": 3
   },
   "file_extension": ".py",
   "mimetype": "text/x-python",
   "name": "python",
   "nbconvert_exporter": "python",
   "pygments_lexer": "ipython3",
   "version": "3.11.4"
  }
 },
 "nbformat": 4,
 "nbformat_minor": 5
}
